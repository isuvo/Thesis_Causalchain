{
 "cells": [
  {
   "cell_type": "code",
   "execution_count": null,
   "metadata": {
    "vscode": {
     "languageId": "html"
    }
   },
   "outputs": [],
   "source": [
    "# Explore ReposVul Dataset"
   ]
  },
  {
   "cell_type": "code",
   "execution_count": 1,
   "metadata": {},
   "outputs": [
    {
     "name": "stdout",
     "output_type": "stream",
     "text": [
      "^C\n",
      "Note: you may need to restart the kernel to use updated packages.\n"
     ]
    },
    {
     "name": "stdout",
     "output_type": "stream",
     "text": [
      "Requirement already satisfied: pandas in c:\\users\\user\\desktop\\thesis research\\implementation\\thesis-causal-vul\\.venv\\lib\\site-packages (2.2.2)\n",
      "Collecting orjson\n",
      "  Downloading orjson-3.11.3-cp311-cp311-win_amd64.whl.metadata (43 kB)\n",
      "Collecting ujson\n",
      "  Downloading ujson-5.11.0-cp311-cp311-win_amd64.whl.metadata (9.6 kB)\n",
      "Requirement already satisfied: matplotlib in c:\\users\\user\\desktop\\thesis research\\implementation\\thesis-causal-vul\\.venv\\lib\\site-packages (3.10.5)\n",
      "Requirement already satisfied: tqdm in c:\\users\\user\\desktop\\thesis research\\implementation\\thesis-causal-vul\\.venv\\lib\\site-packages (4.66.4)\n",
      "Collecting tabulate\n",
      "  Downloading tabulate-0.9.0-py3-none-any.whl.metadata (34 kB)\n",
      "Requirement already satisfied: networkx in c:\\users\\user\\desktop\\thesis research\\implementation\\thesis-causal-vul\\.venv\\lib\\site-packages (3.3)\n",
      "Collecting python-levenshtein\n",
      "  Downloading python_levenshtein-0.27.1-py3-none-any.whl.metadata (3.7 kB)\n",
      "Requirement already satisfied: numpy>=1.23.2 in c:\\users\\user\\desktop\\thesis research\\implementation\\thesis-causal-vul\\.venv\\lib\\site-packages (from pandas) (1.26.4)\n",
      "Requirement already satisfied: python-dateutil>=2.8.2 in c:\\users\\user\\desktop\\thesis research\\implementation\\thesis-causal-vul\\.venv\\lib\\site-packages (from pandas) (2.9.0.post0)\n",
      "Requirement already satisfied: pytz>=2020.1 in c:\\users\\user\\desktop\\thesis research\\implementation\\thesis-causal-vul\\.venv\\lib\\site-packages (from pandas) (2025.2)\n",
      "Requirement already satisfied: tzdata>=2022.7 in c:\\users\\user\\desktop\\thesis research\\implementation\\thesis-causal-vul\\.venv\\lib\\site-packages (from pandas) (2025.2)\n",
      "Requirement already satisfied: contourpy>=1.0.1 in c:\\users\\user\\desktop\\thesis research\\implementation\\thesis-causal-vul\\.venv\\lib\\site-packages (from matplotlib) (1.3.3)\n",
      "Requirement already satisfied: cycler>=0.10 in c:\\users\\user\\desktop\\thesis research\\implementation\\thesis-causal-vul\\.venv\\lib\\site-packages (from matplotlib) (0.12.1)\n",
      "Requirement already satisfied: fonttools>=4.22.0 in c:\\users\\user\\desktop\\thesis research\\implementation\\thesis-causal-vul\\.venv\\lib\\site-packages (from matplotlib) (4.59.2)\n",
      "Requirement already satisfied: kiwisolver>=1.3.1 in c:\\users\\user\\desktop\\thesis research\\implementation\\thesis-causal-vul\\.venv\\lib\\site-packages (from matplotlib) (1.4.9)\n",
      "Requirement already satisfied: packaging>=20.0 in c:\\users\\user\\desktop\\thesis research\\implementation\\thesis-causal-vul\\.venv\\lib\\site-packages (from matplotlib) (25.0)\n",
      "Requirement already satisfied: pillow>=8 in c:\\users\\user\\desktop\\thesis research\\implementation\\thesis-causal-vul\\.venv\\lib\\site-packages (from matplotlib) (11.0.0)\n",
      "Requirement already satisfied: pyparsing>=2.3.1 in c:\\users\\user\\desktop\\thesis research\\implementation\\thesis-causal-vul\\.venv\\lib\\site-packages (from matplotlib) (3.2.3)\n",
      "Requirement already satisfied: colorama in c:\\users\\user\\desktop\\thesis research\\implementation\\thesis-causal-vul\\.venv\\lib\\site-packages (from tqdm) (0.4.6)\n",
      "Collecting Levenshtein==0.27.1 (from python-levenshtein)\n",
      "  Downloading levenshtein-0.27.1-cp311-cp311-win_amd64.whl.metadata (3.6 kB)\n",
      "Collecting rapidfuzz<4.0.0,>=3.9.0 (from Levenshtein==0.27.1->python-levenshtein)\n",
      "  Downloading rapidfuzz-3.14.1-cp311-cp311-win_amd64.whl.metadata (12 kB)\n",
      "Requirement already satisfied: six>=1.5 in c:\\users\\user\\desktop\\thesis research\\implementation\\thesis-causal-vul\\.venv\\lib\\site-packages (from python-dateutil>=2.8.2->pandas) (1.17.0)\n",
      "Downloading orjson-3.11.3-cp311-cp311-win_amd64.whl (131 kB)\n",
      "Downloading ujson-5.11.0-cp311-cp311-win_amd64.whl (43 kB)\n",
      "Downloading tabulate-0.9.0-py3-none-any.whl (35 kB)\n",
      "Downloading python_levenshtein-0.27.1-py3-none-any.whl (9.4 kB)\n",
      "Downloading levenshtein-0.27.1-cp311-cp311-win_amd64.whl (100 kB)\n",
      "Downloading rapidfuzz-3.14.1-cp311-cp311-win_amd64.whl (1.5 MB)\n",
      "   ---------------------------------------- 0.0/1.5 MB ? eta -:--:--\n",
      "   ---------------------------------------- 1.5/1.5 MB 27.3 MB/s  0:00:00\n",
      "Installing collected packages: ujson, tabulate, rapidfuzz, orjson, Levenshtein, python-levenshtein\n",
      "\n",
      "   ------ --------------------------------- 1/6 [tabulate]\n",
      "   ------ --------------------------------- 1/6 [tabulate]\n",
      "   ------------- -------------------------- 2/6 [rapidfuzz]\n",
      "   ------------- -------------------------- 2/6 [rapidfuzz]\n",
      "   ------------- -------------------------- 2/6 [rapidfuzz]\n",
      "   ------------- -------------------------- 2/6 [rapidfuzz]\n",
      "   ------------- -------------------------- 2/6 [rapidfuzz]\n",
      "   ------------- -------------------------- 2/6 [rapidfuzz]\n",
      "   ------------- -------------------------- 2/6 [rapidfuzz]\n",
      "   -------------------------- ------------- 4/6 [Levenshtein]\n",
      "   ---------------------------------------- 6/6 [python-levenshtein]\n",
      "\n",
      "Successfully installed Levenshtein-0.27.1 orjson-3.11.3 python-levenshtein-0.27.1 rapidfuzz-3.14.1 tabulate-0.9.0 ujson-5.11.0\n"
     ]
    }
   ],
   "source": [
    "# If your venv already has these, you can skip this cell.\n",
    "%pip install pandas orjson ujson matplotlib tqdm tabulate networkx python-levenshtein\n"
   ]
  },
  {
   "cell_type": "code",
   "execution_count": null,
   "metadata": {},
   "outputs": [],
   "source": [
    "from pathlib import Path\n",
    "import json, orjson, ujson, re, difflib, itertools, math\n",
    "import pandas as pd\n",
    "import matplotlib.pyplot as plt\n",
    "import networkx as nx\n",
    "from collections import Counter, defaultdict\n",
    "from tqdm import tqdm\n",
    "\n",
    "DATA_DIR = Path(r\"data/dataset/ReposVul_c_cpp\")\n",
    "\n",
    "FILES = {\n",
    "    \"train\": DATA_DIR / \"train_c_cpp_repository2.jsonl\",\n",
    "    \"valid\": DATA_DIR / \"valid_c_cpp_repository2.jsonl\",\n",
    "    \"test\" : DATA_DIR / \"test_c_cpp_repository2.jsonl\",\n",
    "}\n",
    "for split, p in FILES.items():\n",
    "    assert p.exists(), f\"Missing: {split} \u00e2\u2020\u2019 {p}\"\n",
    "print(\"All files exist.\")"
   ]
  },
  {
   "cell_type": "code",
   "execution_count": null,
   "metadata": {},
   "outputs": [],
   "source": [
    "# Define FIELD_MAP and top_counts function\n",
    "FIELD_MAP = {\n",
    "    \"cwe\": \"cwe\",\n",
    "    \"severity\": \"severity\",\n",
    "    \"func\": \"func\",\n",
    "    \"target\": \"target\"\n",
    "}\n",
    "\n",
    "def top_counts(filepath, field_map):\n",
    "    \"\"\"Count occurrences of fields in the dataset\"\"\"\n",
    "    counts = {}\n",
    "    try:\n",
    "        with open(filepath, \"r\") as f:\n",
    "            for line in f:\n",
    "                try:\n",
    "                    data = json.loads(line.strip())\n",
    "                    for field_key, field_name in field_map.items():\n",
    "                        if field_name in data:\n",
    "                            value = data[field_name]\n",
    "                            if field_key not in counts:\n",
    "                                counts[field_key] = Counter()\n",
    "                            counts[field_key][value] += 1\n",
    "                except json.JSONDecodeError:\n",
    "                    continue\n",
    "    except FileNotFoundError:\n",
    "        print(f\"File not found: {filepath}\")\n",
    "        return\n",
    "    \n",
    "    # Display top counts for each field\n",
    "    for field_key, counter in counts.items():\n",
    "        print(f\"\nTop {field_key.upper()}:\")\n",
    "        for value, count in counter.most_common(10):\n",
    "            print(f\"  {value}: {count}\")\n",
    "\n",
    "# Process each file\n",
    "for split, fp in FILES.items():\n",
    "    print(f\"\n==== {split.upper()} ====\")\n",
    "    top_counts(fp, FIELD_MAP)\n"
   ]
  }
 ],
 "metadata": {
  "kernelspec": {
   "display_name": ".venv",
   "language": "python",
   "name": "python3"
  },
  "language_info": {
   "codemirror_mode": {
    "name": "ipython",
    "version": 3
   },
   "file_extension": ".py",
   "mimetype": "text/x-python",
   "name": "python",
   "nbconvert_exporter": "python",
   "pygments_lexer": "ipython3",
   "version": "3.11.0"
  }
 },
 "nbformat": 4,
 "nbformat_minor": 4
}
