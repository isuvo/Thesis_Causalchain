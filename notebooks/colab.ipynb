{
  "cells": [
    {
      "cell_type": "code",
      "execution_count": 20,
      "metadata": {
        "colab": {
          "base_uri": "https://localhost:8080/"
        },
        "id": "3DJfXz0Vhsnc",
        "outputId": "f855575d-6ded-4df6-9f30-b799a6e621cf"
      },
      "outputs": [
        {
          "name": "stdout",
          "output_type": "stream",
          "text": [
            "Mounted at /content/drive\n"
          ]
        }
      ],
      "source": [
        "from google.colab import drive\n",
        "drive.mount('/content/drive')"
      ]
    },
    {
      "cell_type": "code",
      "execution_count": 3,
      "metadata": {
        "colab": {
          "base_uri": "https://localhost:8080/"
        },
        "id": "Ns6I9dOjcOVl",
        "outputId": "6e9f2b76-52ba-442f-e2ee-58d630a3d1f4"
      },
      "outputs": [
        {
          "name": "stdout",
          "output_type": "stream",
          "text": [
            "Wed Sep  3 02:41:06 2025       \n",
            "+-----------------------------------------------------------------------------------------+\n",
            "| NVIDIA-SMI 550.54.15              Driver Version: 550.54.15      CUDA Version: 12.4     |\n",
            "|-----------------------------------------+------------------------+----------------------+\n",
            "| GPU  Name                 Persistence-M | Bus-Id          Disp.A | Volatile Uncorr. ECC |\n",
            "| Fan  Temp   Perf          Pwr:Usage/Cap |           Memory-Usage | GPU-Util  Compute M. |\n",
            "|                                         |                        |               MIG M. |\n",
            "|=========================================+========================+======================|\n",
            "|   0  Tesla T4                       Off |   00000000:00:04.0 Off |                    0 |\n",
            "| N/A   51C    P8             10W /   70W |       0MiB /  15360MiB |      0%      Default |\n",
            "|                                         |                        |                  N/A |\n",
            "+-----------------------------------------+------------------------+----------------------+\n",
            "                                                                                         \n",
            "+-----------------------------------------------------------------------------------------+\n",
            "| Processes:                                                                              |\n",
            "|  GPU   GI   CI        PID   Type   Process name                              GPU Memory |\n",
            "|        ID   ID                                                               Usage      |\n",
            "|=========================================================================================|\n",
            "|  No running processes found                                                             |\n",
            "+-----------------------------------------------------------------------------------------+\n",
            "Torch: 2.8.0+cu126 CUDA: 12.6 Py 3.12.11 (main, Jun  4 2025, 08:56:18) [GCC 11.4.0]\n"
          ]
        }
      ],
      "source": [
        "# 1) sanity: GPU present?\n",
        "!nvidia-smi\n",
        "\n",
        "# 2) fresh pip + basics\n",
        "!pip -q install --upgrade pip\n",
        "\n",
        "# 3) (Optional pin) Use the preinstalled torch on Colab (often 2.x + cu121). Print it:\n",
        "import torch, os, sys\n",
        "print(\"Torch:\", torch.__version__, \"CUDA:\", torch.version.cuda, \"Py\", sys.version)\n",
        "\n",
        "# 4) Install PyG wheels that match THIS torch build (auto-picks correct index page)\n",
        "os.environ['TORCH_VER'] = torch.__version__\n",
        "!pip -q install \"torch-scatter\" \"torch-sparse\" \"torch-cluster\" \"torch-spline-conv\" \"torch-geometric\" -f https://data.pyg.org/whl/torch-$TORCH_VER.html\n",
        "\n",
        "# 5) Other deps\n",
        "!pip -q install transformers tqdm\n"
      ]
    },
    {
      "cell_type": "code",
      "execution_count": 9,
      "metadata": {
        "id": "foMeCz_7cy--"
      },
      "outputs": [],
      "source": [
        "import os\n",
        "os.makedirs('/content/Thesis-causal-vul', exist_ok=True)"
      ]
    },
    {
      "cell_type": "code",
      "execution_count": 12,
      "metadata": {
        "colab": {
          "base_uri": "https://localhost:8080/"
        },
        "id": "wn9Xnp-2esUb",
        "outputId": "f4d111d4-a247-4790-9922-300cd92367f9"
      },
      "outputs": [
        {
          "name": "stdout",
          "output_type": "stream",
          "text": [
            "/content/Thesis-causal-vul\n"
          ]
        }
      ],
      "source": [
        "%cd /content/Thesis-causal-vul"
      ]
    },
    {
      "cell_type": "code",
      "execution_count": 19,
      "metadata": {
        "colab": {
          "base_uri": "https://localhost:8080/"
        },
        "id": "4GGiSBuHhFZA",
        "outputId": "02c04db3-d855-41e7-feb1-a0ca7dd0a15e"
      },
      "outputs": [
        {
          "name": "stdout",
          "output_type": "stream",
          "text": [
            "[labels] train pos=10 neg=1018\n",
            "[loss] Focal(gamma=2.0, alpha_pos=0.990)\n",
            "[01] train_loss=3.9963  val_loss=0.0870  val_acc=0.000  lr=1.40e-04\n",
            "[02] train_loss=1.2844  val_loss=0.1183  val_acc=0.230  lr=2.30e-04\n",
            "[03] train_loss=0.3074  val_loss=0.1582  val_acc=0.475  lr=3.20e-04\n",
            "[04] train_loss=0.1064  val_loss=0.1121  val_acc=0.705  lr=4.10e-04\n",
            "/usr/local/lib/python3.12/dist-packages/torch/optim/lr_scheduler.py:209: UserWarning: The epoch parameter in `scheduler.step()` was not necessary and is being deprecated where possible. Please use `scheduler.step()` to step the scheduler. During the deprecation, if epoch is different from None, the closed form is used instead of the new chainable form, where available. Please open an issue if you are unable to replicate your use case: https://github.com/pytorch/pytorch/issues/new/choose.\n",
            "  warnings.warn(EPOCH_DEPRECATION_WARNING, UserWarning)\n",
            "[05] train_loss=0.0560  val_loss=0.0731  val_acc=0.871  lr=5.00e-04\n",
            "[06] train_loss=0.0339  val_loss=0.0959  val_acc=0.863  lr=5.00e-04\n",
            "[07] train_loss=0.0293  val_loss=0.0919  val_acc=0.921  lr=4.99e-04\n",
            "[08] train_loss=0.0145  val_loss=0.1097  val_acc=0.906  lr=4.98e-04\n",
            "[09] train_loss=0.0132  val_loss=0.0999  val_acc=0.928  lr=4.96e-04\n",
            "[10] train_loss=0.0079  val_loss=0.1307  val_acc=0.914  lr=4.95e-04\n",
            "[11] train_loss=0.0078  val_loss=0.0928  val_acc=0.935  lr=4.92e-04\n",
            "[12] train_loss=0.0277  val_loss=0.1001  val_acc=0.921  lr=4.89e-04\n",
            "[13] train_loss=0.0293  val_loss=0.0983  val_acc=0.935  lr=4.86e-04\n",
            "[14] train_loss=0.0210  val_loss=0.1171  val_acc=0.914  lr=4.82e-04\n",
            "[15] train_loss=0.0253  val_loss=0.1246  val_acc=0.921  lr=4.78e-04\n",
            "[16] train_loss=0.0067  val_loss=0.1307  val_acc=0.892  lr=4.74e-04\n",
            "[17] train_loss=0.0076  val_loss=0.1154  val_acc=0.935  lr=4.69e-04\n",
            "[18] train_loss=0.0073  val_loss=0.1251  val_acc=0.928  lr=4.64e-04\n",
            "[19] train_loss=0.0141  val_loss=0.1071  val_acc=0.856  lr=4.58e-04\n",
            "[20] train_loss=0.0140  val_loss=0.0887  val_acc=0.942  lr=4.52e-04\n",
            "[21] train_loss=0.0080  val_loss=0.0959  val_acc=0.928  lr=4.46e-04\n",
            "[22] train_loss=0.0050  val_loss=0.0649  val_acc=0.957  lr=4.39e-04\n",
            "[23] train_loss=0.1198  val_loss=0.1106  val_acc=0.712  lr=4.32e-04\n",
            "[24] train_loss=0.1317  val_loss=0.0749  val_acc=0.935  lr=4.25e-04\n",
            "[25] train_loss=0.1087  val_loss=0.4528  val_acc=0.532  lr=4.17e-04\n",
            "[26] train_loss=0.2476  val_loss=0.1107  val_acc=0.863  lr=4.09e-04\n",
            "[27] train_loss=0.1409  val_loss=0.2778  val_acc=0.568  lr=4.01e-04\n",
            "[28] train_loss=0.1230  val_loss=0.1714  val_acc=0.784  lr=3.93e-04\n",
            "[29] train_loss=0.0542  val_loss=0.1275  val_acc=0.863  lr=3.84e-04\n",
            "[30] train_loss=0.0420  val_loss=0.1294  val_acc=0.885  lr=3.75e-04\n",
            "[31] train_loss=0.0301  val_loss=0.1246  val_acc=0.906  lr=3.66e-04\n",
            "[32] train_loss=0.0215  val_loss=0.1395  val_acc=0.899  lr=3.56e-04\n",
            "[33] train_loss=0.0274  val_loss=0.1539  val_acc=0.906  lr=3.47e-04\n",
            "[34] train_loss=0.0159  val_loss=0.1431  val_acc=0.914  lr=3.37e-04\n",
            "[35] train_loss=0.0133  val_loss=0.1413  val_acc=0.928  lr=3.27e-04\n",
            "[36] train_loss=0.0135  val_loss=0.1372  val_acc=0.935  lr=3.17e-04\n",
            "[37] train_loss=0.0090  val_loss=0.1282  val_acc=0.935  lr=3.07e-04\n",
            "[38] train_loss=0.0103  val_loss=0.1402  val_acc=0.935  lr=2.97e-04\n",
            "[39] train_loss=0.0070  val_loss=0.1455  val_acc=0.935  lr=2.87e-04\n",
            "[40] train_loss=0.0107  val_loss=0.1367  val_acc=0.935  lr=2.76e-04\n",
            "[41] train_loss=0.0099  val_loss=0.1448  val_acc=0.935  lr=2.66e-04\n",
            "[42] train_loss=0.0116  val_loss=0.1489  val_acc=0.935  lr=2.55e-04\n",
            "[43] train_loss=0.0054  val_loss=0.1025  val_acc=0.935  lr=2.45e-04\n",
            "[44] train_loss=0.0367  val_loss=0.1446  val_acc=0.906  lr=2.34e-04\n",
            "[45] train_loss=0.0163  val_loss=0.1529  val_acc=0.906  lr=2.24e-04\n",
            "[46] train_loss=0.0074  val_loss=0.1221  val_acc=0.928  lr=2.13e-04\n",
            "[47] train_loss=0.0060  val_loss=0.1238  val_acc=0.928  lr=2.03e-04\n",
            "[48] train_loss=0.0068  val_loss=0.1445  val_acc=0.928  lr=1.93e-04\n",
            "[49] train_loss=0.0077  val_loss=0.1439  val_acc=0.928  lr=1.83e-04\n",
            "[50] train_loss=0.0073  val_loss=0.1299  val_acc=0.935  lr=1.73e-04\n",
            "[51] train_loss=0.0045  val_loss=0.1453  val_acc=0.928  lr=1.63e-04\n",
            "[52] train_loss=0.0116  val_loss=0.1243  val_acc=0.935  lr=1.53e-04\n",
            "[53] train_loss=0.0112  val_loss=0.1401  val_acc=0.928  lr=1.44e-04\n",
            "[54] train_loss=0.0068  val_loss=0.1117  val_acc=0.935  lr=1.34e-04\n",
            "[55] train_loss=0.0032  val_loss=0.1063  val_acc=0.935  lr=1.25e-04\n",
            "[56] train_loss=0.0020  val_loss=0.1101  val_acc=0.935  lr=1.16e-04\n",
            "[57] train_loss=0.0047  val_loss=0.1086  val_acc=0.935  lr=1.07e-04\n",
            "[58] train_loss=0.0055  val_loss=0.1142  val_acc=0.935  lr=9.89e-05\n",
            "[59] train_loss=0.0055  val_loss=0.1253  val_acc=0.935  lr=9.06e-05\n",
            "[60] train_loss=0.0042  val_loss=0.1175  val_acc=0.935  lr=8.27e-05\n",
            "[61] train_loss=0.0034  val_loss=0.1120  val_acc=0.935  lr=7.51e-05\n",
            "[62] train_loss=0.0016  val_loss=0.1046  val_acc=0.935  lr=6.78e-05\n",
            "[63] train_loss=0.0016  val_loss=0.1164  val_acc=0.935  lr=6.08e-05\n",
            "[64] train_loss=0.0031  val_loss=0.0944  val_acc=0.942  lr=5.41e-05\n",
            "[65] train_loss=0.0078  val_loss=0.1021  val_acc=0.942  lr=4.77e-05\n",
            "[66] train_loss=0.0083  val_loss=0.1146  val_acc=0.928  lr=4.18e-05\n",
            "[67] train_loss=0.0071  val_loss=0.1073  val_acc=0.935  lr=3.62e-05\n",
            "[68] train_loss=0.0103  val_loss=0.1031  val_acc=0.935  lr=3.09e-05\n",
            "[69] train_loss=0.0022  val_loss=0.1098  val_acc=0.935  lr=2.61e-05\n",
            "[70] train_loss=0.0171  val_loss=0.0978  val_acc=0.942  lr=2.16e-05\n",
            "[71] train_loss=0.0096  val_loss=0.1116  val_acc=0.928  lr=1.76e-05\n",
            "[72] train_loss=0.0044  val_loss=0.1048  val_acc=0.928  lr=1.39e-05\n",
            "[73] train_loss=0.0022  val_loss=0.0981  val_acc=0.935  lr=1.07e-05\n",
            "[74] train_loss=0.0057  val_loss=0.1021  val_acc=0.935  lr=7.85e-06\n",
            "[75] train_loss=0.0077  val_loss=0.1068  val_acc=0.928  lr=5.46e-06\n",
            "[76] train_loss=0.0068  val_loss=0.1049  val_acc=0.935  lr=3.50e-06\n",
            "[77] train_loss=0.0053  val_loss=0.1081  val_acc=0.928  lr=1.97e-06\n",
            "[78] train_loss=0.0060  val_loss=0.1019  val_acc=0.935  lr=8.77e-07\n",
            "[79] train_loss=0.0066  val_loss=0.1012  val_acc=0.935  lr=2.19e-07\n",
            "[80] train_loss=0.0034  val_loss=0.0989  val_acc=0.935  lr=0.00e+00\n",
            "[TEST] loss=0.0176 acc=0.965\n"
          ]
        }
      ],
      "source": [
        "!python -m src.step4_train_gnn_attn \\\n",
        "  --data_dir \"/content/Thesis-causal-vul/work/pyg_diversevul_tf\" \\\n",
        "  --out_dir \"/content/Thesis-causal-vul/work/models\" \\\n",
        "  --epochs 80 \\\n",
        "  --batch_size 64 \\\n",
        "  --hidden 192 \\\n",
        "  --attn_hidden 192 \\\n",
        "  --lr 5e-4 \\\n",
        "  --loss focal \\\n",
        "  --gamma 2.0 \\\n",
        "  --sampler weighted \\\n",
        "  --progress tqdm \\\n",
        "  --num_workers 2 \\\n",
        "  --clean_out\n",
        "\n"
      ]
    },
    {
      "cell_type": "code",
      "execution_count": 22,
      "metadata": {
        "colab": {
          "base_uri": "https://localhost:8080/"
        },
        "id": "pRuwCO3ojK6j",
        "outputId": "91c5ad71-8112-4d6f-aead-bed9a8a49ed1"
      },
      "outputs": [
        {
          "name": "stdout",
          "output_type": "stream",
          "text": [
            "[ok] wrote /content/Thesis-causal-vul/work/chains/colab_chains.jsonl\n"
          ]
        }
      ],
      "source": [
        "!python -m src.step5_export_chains \\\n",
        "  --data_dir \"/content/Thesis-causal-vul/work/pyg_diversevul_tf\" \\\n",
        "  --model   \"/content/Thesis-causal-vul/work/models/gcbert_gnn_attn.pt\" \\\n",
        "  --cfg     \"/content/Thesis-causal-vul/work/models/gcbert_gnn_attn.cfg.json\" \\\n",
        "  --out     \"/content/Thesis-causal-vul/work/chains/colab_chains.jsonl\" \\\n",
        "  --num_graphs 500 \\\n",
        "  --topk_nodes 12 \\\n",
        "  --k_paths 3 \\\n",
        "  --max_len 8 \\\n",
        "  --clean_out\n"
      ]
    },
    {
      "cell_type": "code",
      "execution_count": 23,
      "metadata": {
        "colab": {
          "base_uri": "https://localhost:8080/"
        },
        "id": "2xgqGAuRmsA4",
        "outputId": "8ebea9e6-0f91-4f58-d84e-0ff6748e4ea9"
      },
      "outputs": [
        {
          "name": "stdout",
          "output_type": "stream",
          "text": [
            "{\n",
            "  \"n_test\": 115,\n",
            "  \"default_thr\": 0.5,\n",
            "  \"metrics@0.5\": {\n",
            "    \"tp\": 1,\n",
            "    \"tn\": 110,\n",
            "    \"fp\": 4,\n",
            "    \"fn\": 0,\n",
            "    \"acc\": 0.9652173913043478,\n",
            "    \"prec\": 0.2,\n",
            "    \"rec\": 1.0,\n",
            "    \"f1\": 0.33333333333333337,\n",
            "    \"roc_auc\": 1.0,\n",
            "    \"pr_auc\": 1.0\n",
            "  },\n",
            "  \"best_threshold_by_f1\": {\n",
            "    \"thr\": 0.9,\n",
            "    \"f1\": 1.0\n",
            "  },\n",
            "  \"metrics@best_thr\": {\n",
            "    \"tp\": 1,\n",
            "    \"tn\": 114,\n",
            "    \"fp\": 0,\n",
            "    \"fn\": 0,\n",
            "    \"acc\": 1.0,\n",
            "    \"prec\": 1.0,\n",
            "    \"rec\": 1.0,\n",
            "    \"f1\": 1.0,\n",
            "    \"roc_auc\": 1.0,\n",
            "    \"pr_auc\": 1.0\n",
            "  }\n",
            "}\n"
          ]
        }
      ],
      "source": [
        "!pip -q install scikit-learn\n",
        "!python -m src.step6_eval_report \\\n",
        "  --data_dir \"/content/Thesis-causal-vul/work/pyg_diversevul_tf\" \\\n",
        "  --model   \"/content/Thesis-causal-vul/work/models/gcbert_gnn_attn.pt\" \\\n",
        "  --cfg     \"/content/Thesis-causal-vul/work/models/gcbert_gnn_attn.cfg.json\" \\\n",
        "  --out_dir \"/content/Thesis-causal-vul/work/eval\" \\\n",
        "  --seed 7\n"
      ]
    },
    {
      "cell_type": "code",
      "execution_count": 24,
      "metadata": {
        "colab": {
          "base_uri": "https://localhost:8080/"
        },
        "id": "e59aIafEnKBL",
        "outputId": "663bf8f7-8a96-4a83-9d6e-59d8208682ef"
      },
      "outputs": [
        {
          "name": "stdout",
          "output_type": "stream",
          "text": [
            "[ok] wrote /content/Thesis-causal-vul/work/chains/colab_chains.html (rows=15)\n",
            "Open: file:///content/Thesis-causal-vul/work/chains/colab_chains.html\n"
          ]
        }
      ],
      "source": [
        "!python -m src.step6_render_chains_html \\\n",
        "  --chains \"/content/Thesis-causal-vul/work/chains/colab_chains.jsonl\" \\\n",
        "  --out_html \"/content/Thesis-causal-vul/work/chains/colab_chains.html\" \\\n",
        "  --min_prob 0.5 \\\n",
        "  --max_rows 300\n",
        "\n",
        "# Preview (openable link)\n",
        "from google.colab import files, output\n",
        "print(\"Open:\", \"file:///content/Thesis-causal-vul/work/chains/colab_chains.html\")\n"
      ]
    }
  ],
  "metadata": {
    "accelerator": "GPU",
    "colab": {
      "gpuType": "T4",
      "provenance": []
    },
    "kernelspec": {
      "display_name": "Python 3",
      "name": "python3"
    },
    "language_info": {
      "name": "python"
    }
  },
  "nbformat": 4,
  "nbformat_minor": 0
}
